{
 "cells": [
  {
   "cell_type": "code",
   "execution_count": 3,
   "metadata": {},
   "outputs": [
    {
     "name": "stdout",
     "output_type": "stream",
     "text": [
      "Epoch: 1, Training Loss: 0.000\n",
      "Epoch: 2, Training Loss: 0.000\n",
      "Epoch: 3, Training Loss: 0.000\n",
      "Epoch: 4, Training Loss: 0.000\n",
      "Epoch: 5, Training Loss: 0.000\n",
      "Epoch: 6, Training Loss: 0.000\n",
      "Epoch: 7, Training Loss: 0.000\n",
      "Epoch: 8, Training Loss: 0.000\n",
      "Epoch: 9, Training Loss: 0.000\n",
      "Epoch: 10, Training Loss: 0.000\n",
      "Epoch: 11, Training Loss: 0.000\n",
      "Epoch: 12, Training Loss: 0.000\n",
      "Epoch: 13, Training Loss: 0.000\n",
      "Epoch: 14, Training Loss: 0.000\n",
      "Epoch: 15, Training Loss: 0.000\n",
      "Epoch: 16, Training Loss: 0.000\n",
      "Epoch: 17, Training Loss: 0.000\n",
      "Epoch: 18, Training Loss: 0.000\n",
      "Epoch: 19, Training Loss: 0.000\n",
      "Epoch: 20, Training Loss: 0.000\n"
     ]
    }
   ],
   "source": [
    "training_loss = 0.0\n",
    "for epoch in range(1, 21):\n",
    "    # TODO: Print the epoch and training loss for each iteration\n",
    "    print(f\"Epoch: {epoch}, Training Loss: {training_loss:.3f}\")\n"
   ]
  },
  {
   "cell_type": "code",
   "execution_count": 5,
   "metadata": {},
   "outputs": [],
   "source": [
    "import numpy as np\n"
   ]
  },
  {
   "cell_type": "code",
   "execution_count": 6,
   "metadata": {},
   "outputs": [
    {
     "name": "stdout",
     "output_type": "stream",
     "text": [
      "Epoch: 1, Training Loss: 0.900\n",
      "Epoch: 2, Training Loss: 0.874\n",
      "Epoch: 3, Training Loss: 0.847\n",
      "Epoch: 4, Training Loss: 0.821\n",
      "Epoch: 5, Training Loss: 0.795\n",
      "Epoch: 6, Training Loss: 0.768\n",
      "Epoch: 7, Training Loss: 0.742\n",
      "Epoch: 8, Training Loss: 0.716\n",
      "Epoch: 9, Training Loss: 0.689\n",
      "Epoch: 10, Training Loss: 0.663\n",
      "Epoch: 11, Training Loss: 0.637\n",
      "Epoch: 12, Training Loss: 0.611\n",
      "Epoch: 13, Training Loss: 0.584\n",
      "Epoch: 14, Training Loss: 0.558\n",
      "Epoch: 15, Training Loss: 0.532\n",
      "Epoch: 16, Training Loss: 0.505\n",
      "Epoch: 17, Training Loss: 0.479\n",
      "Epoch: 18, Training Loss: 0.453\n",
      "Epoch: 19, Training Loss: 0.426\n",
      "Epoch: 20, Training Loss: 0.400\n"
     ]
    }
   ],
   "source": [
    "# TODO: Generate 20 training loss values decreasing from 0.9 to 0.4\n",
    "training_losses = np.linspace(0.9, 0.4, 20)\n",
    "\n",
    "# TODO: Use a for loop to iterate through epochs 1 to 20\n",
    "for epoch, loss in enumerate(training_losses, start=1):\n",
    "    # TODO: Print the epoch and training loss for each iteration\n",
    "    print(f\"Epoch: {epoch}, Training Loss: {loss:.3f}\")\n"
   ]
  },
  {
   "cell_type": "code",
   "execution_count": null,
   "metadata": {},
   "outputs": [],
   "source": []
  }
 ],
 "metadata": {
  "kernelspec": {
   "display_name": "comp0197-cw1-pt",
   "language": "python",
   "name": "python3"
  },
  "language_info": {
   "codemirror_mode": {
    "name": "ipython",
    "version": 3
   },
   "file_extension": ".py",
   "mimetype": "text/x-python",
   "name": "python",
   "nbconvert_exporter": "python",
   "pygments_lexer": "ipython3",
   "version": "3.12.2"
  }
 },
 "nbformat": 4,
 "nbformat_minor": 2
}
